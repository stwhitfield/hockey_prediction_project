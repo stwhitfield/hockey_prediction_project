{
 "cells": [
  {
   "cell_type": "markdown",
   "id": "6918974c",
   "metadata": {},
   "source": [
    "# DT classifier with PCA dimentionality reduction "
   ]
  },
  {
   "cell_type": "code",
   "execution_count": null,
   "id": "4dd26676",
   "metadata": {},
   "outputs": [],
   "source": [
    "import numpy as np\n",
    "import pandas as pd\n",
    "import xgboost as xgb\n",
    "import xgboost as xgb\n",
    "from sklearn.model_selection import train_test_split\n",
    "from sklearn.preprocessing import MinMaxScaler\n",
    "from sklearn import metrics\n",
    "from sklearn.tree import DecisionTreeClassifier\n",
    "from sklearn.calibration import calibration_curve, CalibrationDisplay\n",
    "from sklearn.metrics import roc_curve, auc\n",
    "from sklearn.decomposition import PCA\n",
    "import joblib\n",
    "from plot_metrics import *\n",
    "import matplotlib.pyplot as plt\n",
    "%matplotlib inline"
   ]
  },
  {
   "cell_type": "code",
   "execution_count": null,
   "id": "3a92e2cc",
   "metadata": {},
   "outputs": [],
   "source": [
    "# Read in data and assign X and y\n",
    "data = pd.read_csv('../../../data/train.csv', index_col=0)\n",
    "X = data[data.columns.tolist()[:-1]]\n",
    "y = data[['isGoal']]\n",
    "X"
   ]
  },
  {
   "cell_type": "markdown",
   "id": "e4012d41",
   "metadata": {},
   "source": [
    "### Loading the the best model from gridsearch for DT classifier"
   ]
  },
  {
   "cell_type": "code",
   "execution_count": null,
   "id": "c76e0e65",
   "metadata": {},
   "outputs": [],
   "source": [
    "dt_grid_search_model = joblib.load(\"../dt_random_best_model.pkl\")\n",
    "dt_best_params = dt_grid_search_model.best_params_\n",
    "dt_best_params"
   ]
  },
  {
   "cell_type": "code",
   "execution_count": null,
   "id": "9c229f0e",
   "metadata": {},
   "outputs": [],
   "source": [
    "def DT_best_params(X,y, params):\n",
    "    #Train and valid split\n",
    "    X_train,X_val,y_train,y_val = train_test_split(X, y, test_size=0.2, random_state=42)\n",
    "    \n",
    "    scaler = MinMaxScaler()\n",
    "    X_train = scaler.fit_transform(X_train)\n",
    "    X_val = scaler.transform(X_val)\n",
    "    \n",
    "    #PCA Feature Reduction\n",
    "    pca = PCA(n_components= 10)\n",
    "    X_train_transformed = pca.fit_transform(X_train)\n",
    "    X_val_transformed = pca.transform(X_val)\n",
    "    \n",
    "    print(\"Shape of X_train after PCA\", X_train_transformed.shape)\n",
    "    print(\"Shape of X_val after PCA\", X_val_transformed.shape)\n",
    "\n",
    "   #Model Fitting\n",
    "    clf = DecisionTreeClassifier(**params)\n",
    "    y_train = y_train.values.ravel()\n",
    "    clf.fit(X_train_transformed, y_train)\n",
    "    \n",
    "    # Predict on validation set\n",
    "    y_pred = clf.predict(X_val_transformed)\n",
    "    \n",
    "    #Probability estimates\n",
    "    pred_probs = clf.predict_proba(X_val_transformed)\n",
    "    probs_isgoal = pred_probs[:,1]\n",
    "    \n",
    "    #Model Evaultion Metrics\n",
    "    accuracy = metrics.accuracy_score(y_val, y_pred)\n",
    "    f1_score = metrics.f1_score(y_val, y_pred)\n",
    "    precision = metrics.precision_score(y_val, y_pred)\n",
    "    recall = metrics.recall_score(y_val, y_pred)\n",
    "    cf_matrix = metrics.confusion_matrix(y_val,y_pred)\n",
    "    roc_auc = metrics.roc_auc_score(y_val,probs_isgoal)\n",
    "    \n",
    "    #ROC AUC Curve\n",
    "    plot_ROC(y_val, pred_probs)\n",
    "        \n",
    "    #Goal Rate Plot\n",
    "    df_percentile =  calc_percentile(pred_probs, y_val)\n",
    "    goal_rate_df = goal_rate(df_percentile)\n",
    "    plot_goal_rates(goal_rate_df)\n",
    "        \n",
    "    #Cumulative Goal Rate Plot\n",
    "    plot_cumulative_goal_rates(df_percentile)\n",
    "        \n",
    "    #Calibration Curve\n",
    "    plot_calibration_curve_prediction(y_val, pred_probs)   \n",
    "    \n",
    "        \n",
    "    return pred_probs, accuracy,f1_score, precision, recall, roc_auc, cf_matrix"
   ]
  },
  {
   "cell_type": "code",
   "execution_count": null,
   "id": "329d4443",
   "metadata": {},
   "outputs": [],
   "source": [
    "X"
   ]
  },
  {
   "cell_type": "code",
   "execution_count": null,
   "id": "fd10a9c6",
   "metadata": {},
   "outputs": [],
   "source": [
    "pred_probs, accuracy,f1_score, precision, recall, roc_auc, cf_matrix = DT_best_params(X, y, dt_best_params)\n",
    "print(f' accuracy: {accuracy}')\n",
    "print(f' f1_score: {f1_score}')\n",
    "print(f' precision: {precision}')\n",
    "print(f' recall: {recall}')\n",
    "print(f' roc_auc: {roc_auc}')\n",
    "print(cf_matrix)"
   ]
  },
  {
   "cell_type": "code",
   "execution_count": null,
   "id": "ea688982",
   "metadata": {},
   "outputs": [],
   "source": [
    "disp = metrics.ConfusionMatrixDisplay(confusion_matrix = cf_matrix)\n",
    "disp.plot()"
   ]
  }
 ],
 "metadata": {
  "kernelspec": {
   "display_name": "Python 3 (ipykernel)",
   "language": "python",
   "name": "python3"
  },
  "language_info": {
   "codemirror_mode": {
    "name": "ipython",
    "version": 3
   },
   "file_extension": ".py",
   "mimetype": "text/x-python",
   "name": "python",
   "nbconvert_exporter": "python",
   "pygments_lexer": "ipython3",
   "version": "3.9.12"
  }
 },
 "nbformat": 4,
 "nbformat_minor": 5
}

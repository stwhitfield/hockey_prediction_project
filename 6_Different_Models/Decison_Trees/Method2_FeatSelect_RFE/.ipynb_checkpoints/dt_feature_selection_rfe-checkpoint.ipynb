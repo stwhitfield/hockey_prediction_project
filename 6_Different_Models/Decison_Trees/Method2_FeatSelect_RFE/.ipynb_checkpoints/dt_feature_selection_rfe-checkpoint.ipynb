{
 "cells": [
  {
   "cell_type": "markdown",
   "id": "f7c9026d",
   "metadata": {},
   "source": [
    "### RF classifier with RFE feature selection method"
   ]
  },
  {
   "cell_type": "code",
   "execution_count": null,
   "id": "232f5019",
   "metadata": {},
   "outputs": [],
   "source": [
    "import numpy as np\n",
    "import pandas as pd\n",
    "import xgboost as xgb\n",
    "import xgboost as xgb\n",
    "from sklearn.model_selection import train_test_split\n",
    "from sklearn.preprocessing import MinMaxScaler\n",
    "from sklearn import metrics\n",
    "from sklearn.tree import DecisionTreeClassifier\n",
    "from sklearn.calibration import calibration_curve, CalibrationDisplay\n",
    "from sklearn.metrics import roc_curve, auc\n",
    "import joblib\n",
    "from plot_metrics import *"
   ]
  },
  {
   "cell_type": "code",
   "execution_count": null,
   "id": "0bc3f0b4",
   "metadata": {},
   "outputs": [],
   "source": [
    "def DT_best_params(X,y, params):\n",
    "    #Train and valid split\n",
    "    X_train,X_val,y_train,y_val = train_test_split(X, y, test_size=0.2, random_state=42)\n",
    "    \n",
    "   #Model Fitting\n",
    "    clf = DecisionTreeClassifier(**params)\n",
    "    y_train = y_train.values.ravel()\n",
    "    clf.fit(X_train, y_train)\n",
    "    \n",
    "    # Predict on validation set\n",
    "    y_pred = clf.predict(X_val)\n",
    "    \n",
    "    #Probability estimates\n",
    "    pred_probs = clf.predict_proba(X_val)\n",
    "    probs_isgoal = pred_probs[:,1]\n",
    "    \n",
    "    #Model Evaultion Metrics\n",
    "    accuracy = metrics.accuracy_score(y_val, y_pred)\n",
    "    f1_score = metrics.f1_score(y_val, y_pred)\n",
    "    precision = metrics.precision_score(y_val, y_pred)\n",
    "    recall = metrics.recall_score(y_val, y_pred)\n",
    "    cf_matrix = metrics.confusion_matrix(y_val,y_pred)\n",
    "    roc_auc = metrics.roc_auc_score(y_val,probs_isgoal)\n",
    "    \n",
    "    #ROC AUC Curve\n",
    "    plot_ROC(y_val, pred_probs)\n",
    "        \n",
    "    #Goal Rate Plot\n",
    "    df_percentile =  calc_percentile(pred_probs, y_val)\n",
    "    goal_rate_df = goal_rate(df_percentile)\n",
    "    plot_goal_rates(goal_rate_df)\n",
    "        \n",
    "    #Cumulative Goal Rate Plot\n",
    "    plot_cumulative_goal_rates(df_percentile)\n",
    "        \n",
    "    #Calibration Curve\n",
    "    plot_calibration_curve_prediction(y_val, pred_probs)   \n",
    "    \n",
    "        \n",
    "    return pred_probs, accuracy,f1_score, precision, recall, roc_auc, cf_matrix"
   ]
  },
  {
   "cell_type": "code",
   "execution_count": null,
   "id": "d9f17a90",
   "metadata": {},
   "outputs": [],
   "source": [
    "# Read in data and assign X and y\n",
    "data = pd.read_csv('../../../data/train.csv', index_col=0)\n",
    "X = data[data.columns.tolist()[:-1]]\n",
    "y = data[['isGoal']]\n",
    "X"
   ]
  },
  {
   "cell_type": "markdown",
   "id": "5bf51db1",
   "metadata": {},
   "source": [
    "### Feature Selection: Recursive feature elimination"
   ]
  },
  {
   "cell_type": "code",
   "execution_count": null,
   "id": "ccad5ee5",
   "metadata": {},
   "outputs": [],
   "source": [
    "from sklearn.preprocessing import MinMaxScaler\n",
    "from sklearn.feature_selection import RFE\n",
    "from sklearn.ensemble import RandomForestClassifier\n",
    "\n",
    "col_list = X.columns.to_list()\n",
    "feature_names = np.array(X.columns.to_list())\n",
    "print(\"Feature Names:\", feature_names)\n",
    "\n",
    "\n",
    "X = X.copy()\n",
    "tot_col = len(X.columns)\n",
    "\n",
    "y_flatten = y.values.ravel()\n",
    "\n",
    "model = RandomForestClassifier()\n",
    "\n",
    "\n",
    "rfe = RFE(model, n_features_to_select=15)\n",
    "fit = rfe.fit(X, y_flatten)\n",
    "\n",
    "print(\"Num Features: \", fit.n_features_)\n",
    "#print(\"Selected Features Mask: \", fit.support_)\n",
    "#print(\"Feature Ranking: \", fit.ranking_)\n",
    "\n",
    "selected_features = feature_names[fit.support_]\n",
    "#Selected feature names\n",
    "print('Selected feature names: ', selected_features)\n",
    "\n",
    "features_dropped = set(col_list).difference(selected_features)\n",
    "print('features_dropped: ', features_dropped)"
   ]
  },
  {
   "cell_type": "code",
   "execution_count": null,
   "id": "86f9a71d",
   "metadata": {},
   "outputs": [],
   "source": [
    "X_new = X[selected_features]\n",
    "print('Shape of new X', X_new.shape)"
   ]
  },
  {
   "cell_type": "markdown",
   "id": "f206c464",
   "metadata": {},
   "source": [
    "### Loading the the best  model from gridsearch for DT classifier"
   ]
  },
  {
   "cell_type": "code",
   "execution_count": null,
   "id": "5a771312",
   "metadata": {},
   "outputs": [],
   "source": [
    "dt_grid_search_model = joblib.load(\"../dt_random_best_model.pkl\")\n",
    "dt_best_params = dt_grid_search_model.best_params_\n",
    "dt_best_params"
   ]
  },
  {
   "cell_type": "code",
   "execution_count": null,
   "id": "7365edae",
   "metadata": {},
   "outputs": [],
   "source": [
    "pred_probs, accuracy,f1_score, precision, recall, roc_auc, cf_matrix = DT_best_params(X_new, y, dt_best_params)\n",
    "print(f' accuracy: {accuracy}')\n",
    "print(f' f1_score: {f1_score}')\n",
    "print(f' precision: {precision}')\n",
    "print(f' recall: {recall}')\n",
    "print(f' roc_auc: {roc_auc}')\n",
    "print(cf_matrix)"
   ]
  },
  {
   "cell_type": "code",
   "execution_count": null,
   "id": "4e6cb04d",
   "metadata": {},
   "outputs": [],
   "source": [
    "disp = metrics.ConfusionMatrixDisplay(confusion_matrix = cf_matrix)\n",
    "disp.plot()"
   ]
  },
  {
   "cell_type": "code",
   "execution_count": null,
   "id": "74c7cb39",
   "metadata": {},
   "outputs": [],
   "source": []
  },
  {
   "cell_type": "code",
   "execution_count": null,
   "id": "de0c674d",
   "metadata": {},
   "outputs": [],
   "source": []
  }
 ],
 "metadata": {
  "kernelspec": {
   "display_name": "Python 3 (ipykernel)",
   "language": "python",
   "name": "python3"
  },
  "language_info": {
   "codemirror_mode": {
    "name": "ipython",
    "version": 3
   },
   "file_extension": ".py",
   "mimetype": "text/x-python",
   "name": "python",
   "nbconvert_exporter": "python",
   "pygments_lexer": "ipython3",
   "version": "3.9.12"
  }
 },
 "nbformat": 4,
 "nbformat_minor": 5
}

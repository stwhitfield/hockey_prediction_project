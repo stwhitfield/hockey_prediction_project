{
 "cells": [
  {
   "cell_type": "markdown",
   "id": "cf88a7fc",
   "metadata": {},
   "source": [
    "Author: Shawn Whitfield <br>\n",
    "Date: 2022-10-14 <br>\n",
    "Version: 1"
   ]
  },
  {
   "cell_type": "markdown",
   "id": "e898cca1",
   "metadata": {},
   "source": [
    "## Specifications"
   ]
  },
  {
   "cell_type": "markdown",
   "id": "772ad8dc",
   "metadata": {},
   "source": [
    "Implement an ipywidget that allows you to flip through all of the events, for every game of a \n",
    "given season, with the ability to switch between the regular season and playoffs. Draw the event \n",
    "coordinates on the provided ice rink image, similar to the example shown below (you can just print \n",
    "the event data when there are no coordinates). You may also print whatever information you find useful, \n",
    "such as game metadata/boxscores, and event summaries (but this is not required). Take a screenshot \n",
    "of the tool and add it to the blog post, accompanied with the code for the tool and a brief \n",
    "(1-2 sentences) description of what your tool does. You do not need to worry about embedding \n",
    "the tool into the blogpost."
   ]
  },
  {
   "cell_type": "markdown",
   "id": "888f5050",
   "metadata": {},
   "source": [
    "## Imports"
   ]
  },
  {
   "cell_type": "code",
   "execution_count": 1,
   "id": "67c2749e",
   "metadata": {},
   "outputs": [],
   "source": [
    "import numpy as np\n",
    "import pandas as pd\n",
    "import matplotlib.pyplot as plt\n",
    "import seaborn as sns\n",
    "import os\n",
    "import json\n",
    "\n",
    "# Imports for JupyterLite\n",
    "try:\n",
    "    import piplite\n",
    "    await piplite.install(['ipywidgets'])\n",
    "except ImportError:\n",
    "    pass\n",
    "import ipywidgets as widgets\n",
    "from IPython.display import display"
   ]
  },
  {
   "cell_type": "markdown",
   "id": "3a1c6b5f",
   "metadata": {},
   "source": [
    "## Importing Data and needed files "
   ]
  },
  {
   "cell_type": "code",
   "execution_count": 2,
   "id": "7c4a3390",
   "metadata": {},
   "outputs": [],
   "source": [
    "def combine_jsons(folder):\n",
    "    \"\"\"\n",
    "    Takes a directory (folder) and reads all of the .json files in the folder into a dictionary.\n",
    "    Returns a dictionary containing all filenames as keys, the file contents are the values.\n",
    "    \"\"\"\n",
    "    # Make a dictionary to store all the jsons\n",
    "    all_data = {}\n",
    "    files_read = []\n",
    "    # Go through each file in directory\n",
    "    for filename in os.listdir(folder):\n",
    "        \n",
    "        # Parse the filename\n",
    "        name = filename.split('.json')[0]\n",
    "        is_json = filename[-5:] == '.json'\n",
    "        \n",
    "        # If it's a json:\n",
    "        if is_json:\n",
    "            # Open and load file\n",
    "            file = open(f\"{folder}{filename}\")\n",
    "            file_dict = json.load(file)\n",
    "            files_read.append(name)\n",
    "            # Add file to dictionary with key as filename (minus .json)\n",
    "            all_data[name] = file_dict\n",
    "#     print(f\"Files read into dictionary \\\"data\\\": {files_read}\")\n",
    "    return all_data\n",
    "\n",
    "# Read in the image of the rink\n",
    "rink = plt.imread(\"nhl_rink.png\")\n",
    "\n",
    "# Load the data\n",
    "data = combine_jsons('raw_data/')"
   ]
  },
  {
   "cell_type": "markdown",
   "id": "8bf39a77",
   "metadata": {},
   "source": [
    "## Widget-containing class"
   ]
  },
  {
   "cell_type": "code",
   "execution_count": 5,
   "id": "97467a60",
   "metadata": {},
   "outputs": [],
   "source": [
    "class Debugger:\n",
    "    def __init__(self,data):\n",
    "        \n",
    "        ##INITIALIZATION VARIABLE##\n",
    "        self.data = data\n",
    "        \n",
    "        ##CORE VARIABLES##\n",
    "            \n",
    "        self.current_data = data #dict, contains the current dictionary (may be a pared-down version of data)\n",
    "        self.current_season = str('2016') #str, gives the current season\n",
    "        self.current_game_type = 'Regular season' #str, gives the current game type (\"Regular season\" or \"Playoffs\")\n",
    "        self.current_game_id = '2016020532' #str, is the game currently being focused on ; initializes at first position\n",
    "        self.current_event = 1 #int, is the event currently being focused on\n",
    "        \n",
    "        ##DESCRIBER VARIABLES (used in description of event)##\n",
    "        \n",
    "        self.away_team = self.current_data[self.current_game_id]['gameData']['teams']['away']['abbreviation']\n",
    "        self.home_team = self.current_data[self.current_game_id]['gameData']['teams']['home']['abbreviation']\n",
    "        self.start_time = self.current_data[self.current_game_id]['gameData']['datetime']['dateTime']\n",
    "        self.end_time = self.current_data[self.current_game_id]['gameData']['datetime']['endDateTime']\n",
    "        self.final_score = self.current_data[self.current_game_id]['liveData']['plays']['allPlays'][-1]['about']['goals']\n",
    "        self.coordinates = self.current_data[self.current_game_id]['liveData']['plays']['allPlays'][self.current_event]['coordinates']\n",
    "        self.event_description = self.current_data[self.current_game_id]['liveData']['plays']['allPlays'][self.current_event]['result']['description']\n",
    "        self.event_time = f\"{self.current_data[self.current_game_id]['liveData']['plays']['allPlays'][self.current_event]['about']['periodTime']} P-{self.current_data[self.current_game_id]['liveData']['plays']['allPlays'][self.current_event]['about']['period']}\"\n",
    "        self.about_event = self.current_data[self.current_game_id]['liveData']['plays']['allPlays'][self.current_event]['about']\n",
    "        \n",
    "        ##WIDGETS##\n",
    "        \n",
    "        # Controls the output of the cell; makes sure messages don't build up in the cell.\n",
    "        self.output = widgets.Output()\n",
    "        \n",
    "        # Slides to select a particular season\n",
    "        self.season = widgets.IntSlider(\n",
    "            value = self.season_range()[0],\n",
    "            min = self.season_range()[0],\n",
    "            max = self.season_range()[1],\n",
    "        )\n",
    "        self.season.observe(self.update_season,'value')\n",
    "        \n",
    "        #Toggles between playoff games and regular season games\n",
    "        self.game_type = widgets.ToggleButtons(options=['Regular season','Playoffs'])\n",
    "        self.game_type.observe(self.update_game_type,'value')\n",
    "        \n",
    "        # Slides to select a particular game\n",
    "        self.game_id = widgets.SelectionSlider(\n",
    "            options = sorted(list(self.current_data.keys())),\n",
    "            value = self.current_game_id,\n",
    "            description='game_id',\n",
    "        #     disabled=False,\n",
    "        #     continuous_update=False,\n",
    "        #     orientation='horizontal',\n",
    "        #     readout=True\n",
    "        )\n",
    "        self.game_id.observe(self.update_game_id,'value')\n",
    "\n",
    "        # Slides to select a particular event in a game\n",
    "        self.event = widgets.IntSlider(\n",
    "            value = 1,\n",
    "            min = 1,\n",
    "            max = len(self.current_data[self.current_game_id]['liveData']['plays']['allPlays']) ,\n",
    "            description = 'event'\n",
    "        )\n",
    "        self.event.observe(self.update_event,'value')\n",
    "        \n",
    "    ##HELPER FUNCTION TO CREATE WIDGETS##\n",
    "    \n",
    "    def season_range(self):\n",
    "        \"\"\"\n",
    "        Lists the files (labeled by game_id) in the \"data\" dictionary and returns a tuple indicating \n",
    "        the minimum season and maximum season (both formatted as strings).\n",
    "        Needed for \"season\" widget\n",
    "        \"\"\"\n",
    "        min_season = 3000\n",
    "        max_season = 0\n",
    "        for game_id in self.data.keys():\n",
    "            season = int(game_id[:4])\n",
    "            if season < min_season:\n",
    "                min_season = season\n",
    "            if season > max_season:\n",
    "                max_season = season\n",
    "        return (str(min_season), str(max_season))\n",
    "    \n",
    "    ##FUNCTIONS TO DISPLAY INFORMATION##\n",
    "    def plot_coordinates(self):\n",
    "        \"\"\"\n",
    "        Takes self.coordinates (if not empty), which is a dictionary of coordinates{'x':x,'y':y} and  \n",
    "        plots a point at these coordinates on a hockey rink image with a description + event_time as titles.\n",
    "        \"\"\"\n",
    "        if self.coordinates:\n",
    "            plt.scatter(x = self.coordinates['x'],y = self.coordinates['y'], zorder = 1, c = 'green', marker = 'D', s = 100)\n",
    "            plt.imshow(rink,zorder=0,extent = [-100,100,-42.5,42.5])\n",
    "            plt.title(self.event_time,fontsize = 10)\n",
    "            plt.suptitle(self.event_description, fontsize = 16, y=.90)\n",
    "            plt.xlabel('feet')\n",
    "            plt.ylabel('feet')\n",
    "        #     plt.axis('off')\n",
    "            plt.show()\n",
    "    \n",
    "    def display_info(self):\n",
    "        \"\"\"\n",
    "        Displays select info about the currently selected event.\n",
    "        \"\"\"\n",
    "        print(f\"Game id: {self.current_game_id} ;  Game number {self.current_game_id[-4:].lstrip('0')} ; {self.home_team} (home) vs. {self.away_team} (away)\")\n",
    "        print(f\"Game start: {self.start_time}, game end: {self.end_time}\")\n",
    "        print(f\"Final score: {self.final_score}\")\n",
    "        print(f\"Total events: {len(self.current_data[self.current_game_id]['liveData']['plays']['allPlays'])}\")\n",
    "        self.plot_coordinates()\n",
    "        print(self.event_description)\n",
    "        print(self.about_event)\n",
    "  \n",
    "#For debugging\n",
    "#     def print_vars(self):\n",
    "#         print(self.current_data.keys())\n",
    "#         print(self.current_season) \n",
    "#         print(self.current_game_type) \n",
    "#         print(self.current_game_id)\n",
    "#         print(self.current_event)\n",
    "\n",
    "#For debugging\n",
    "#     def print_secondary_vars(self):\n",
    "#         print(self.away_team)\n",
    "#         print(self.home_team)\n",
    "#         print(self.start_time)\n",
    "#         print(self.end_time)\n",
    "#         print(self.final_score)\n",
    "#         print(self.coordinates)\n",
    "#         print(self.event_description) \n",
    "#         print(self.event_time)\n",
    "#         print(self.about_event)\n",
    "    \n",
    "    ##FUNCTIONS TO UPDATE VARIABLES/WIDGETS##\n",
    "    \n",
    "    def filter_season(self):\n",
    "        \"\"\"\n",
    "        Updates \"self.current_data\" with only the entries of \"data\" that fit that season.\n",
    "        Needed for updating \"current_data\" to only show particular season info.\n",
    "        \"\"\"\n",
    "        data_in_season = {}\n",
    "        for game_id in self.data.keys():\n",
    "            if str(self.current_season) == game_id[:4]:\n",
    "                data_in_season[game_id] = self.data[game_id]\n",
    "        self.current_data = data_in_season\n",
    "\n",
    "    def filter_playoffs(self):\n",
    "        \"\"\"\n",
    "        Updates the \"self.current_data\" dict to filter by playoffs  (depending on the state of self.game_type).\n",
    "        Needed for updating \"current_data\" to only show info for regular season/playoffs.\n",
    "        \"\"\"\n",
    "        data_in_playoffs = {}\n",
    "        for game_id in self.current_data.keys():\n",
    "            if self.current_game_type == \"Playoffs\":\n",
    "                if game_id[4:6] == '03':\n",
    "                    data_in_playoffs[game_id] = data[game_id]\n",
    "            else:\n",
    "                if game_id[4:6] == '02':\n",
    "                    data_in_playoffs[game_id] = data[game_id]\n",
    "        self.current_data = data_in_playoffs\n",
    "        \n",
    "    def update_vars(self):\n",
    "        \"\"\"\n",
    "        Catch-all function, updates the descriptive variables used in display_info().\n",
    "        \"\"\"\n",
    "        self.away_team = self.current_data[self.current_game_id]['gameData']['teams']['away']['abbreviation']\n",
    "        self.home_team = self.current_data[self.current_game_id]['gameData']['teams']['home']['abbreviation']\n",
    "        self.start_time = self.current_data[self.current_game_id]['gameData']['datetime']['dateTime']\n",
    "        self.end_time = self.current_data[self.current_game_id]['gameData']['datetime']['endDateTime']\n",
    "        self.final_score = self.current_data[self.current_game_id]['liveData']['plays']['allPlays'][-1]['about']['goals']\n",
    "        self.coordinates = self.current_data[self.current_game_id]['liveData']['plays']['allPlays'][self.current_event]['coordinates']\n",
    "        self.event_description = self.current_data[self.current_game_id]['liveData']['plays']['allPlays'][self.current_event]['result']['description']\n",
    "        self.event_time = f\"{self.current_data[self.current_game_id]['liveData']['plays']['allPlays'][self.current_event]['about']['periodTime']} P-{self.current_data[self.current_game_id]['liveData']['plays']['allPlays'][self.current_event]['about']['period']}\"\n",
    "        self.about_event = self.current_data[self.current_game_id]['liveData']['plays']['allPlays'][self.current_event]['about']\n",
    "    \n",
    "    def update_season(self,x):\n",
    "        \"\"\"\n",
    "        Updates self.current_season with the new input from the season widget.\n",
    "        \"\"\"\n",
    "        self.output.clear_output()\n",
    "        with self.output:\n",
    "            self.current_season = x.new\n",
    "            self.filter_season()\n",
    "            self.filter_playoffs()\n",
    "            self.game_id.options = sorted(list(self.current_data.keys()))\n",
    "            self.game_id.value = self.current_game_id\n",
    "            self.update_vars()\n",
    "#             self.print_secondary_vars() #for debugging\n",
    "            self.display_info()\n",
    "            \n",
    "    def update_game_type(self,x):\n",
    "        \"\"\"\n",
    "        Updates self.current_game_type with the new input from the game_type widget.\n",
    "        \"\"\"\n",
    "        self.output.clear_output()\n",
    "        with self.output:\n",
    "            self.current_game_type = x.new\n",
    "            self.filter_season()\n",
    "            self.filter_playoffs()\n",
    "            self.game_id.options = sorted(list(self.current_data.keys()))\n",
    "            self.game_id.value = self.current_game_id\n",
    "            self.update_vars()\n",
    "#             self.print_secondary_vars() #for debugging\n",
    "            self.display_info()\n",
    "    \n",
    "    def update_game_id(self,x):\n",
    "        \"\"\"\n",
    "        Updates self.current_game_id with the new input from the game_id widget.\n",
    "        \"\"\"\n",
    "        self.output.clear_output()\n",
    "        with self.output:\n",
    "            self.current_game_id = x.new\n",
    "            self.update_vars()\n",
    "#             self.print_secondary_vars() #for debugging\n",
    "            self.display_info()\n",
    "    \n",
    "    def update_event(self,x):\n",
    "        \"\"\"\n",
    "        Updates self.current_event with the new input from the event widget.\n",
    "        \"\"\"\n",
    "        self.output.clear_output()\n",
    "        with self.output:\n",
    "            self.current_event = x.new\n",
    "            self.update_vars()\n",
    "#             self.print_secondary_vars() #for debugging\n",
    "            self.display_info()\n",
    "\n",
    "    def display_output(self):\n",
    "        display(self.output)\n",
    "        "
   ]
  },
  {
   "cell_type": "markdown",
   "id": "86100190",
   "metadata": {},
   "source": [
    "# Running the widget"
   ]
  },
  {
   "cell_type": "code",
   "execution_count": 6,
   "id": "64f70dc4",
   "metadata": {},
   "outputs": [
    {
     "data": {
      "application/vnd.jupyter.widget-view+json": {
       "model_id": "8a9faa0b30834804bcbc5b54c21fbcbc",
       "version_major": 2,
       "version_minor": 0
      },
      "text/plain": [
       "IntSlider(value=2016, max=2020, min=2016)"
      ]
     },
     "metadata": {},
     "output_type": "display_data"
    },
    {
     "data": {
      "application/vnd.jupyter.widget-view+json": {
       "model_id": "95f71b5866d44f17abace8a9c48a7b06",
       "version_major": 2,
       "version_minor": 0
      },
      "text/plain": [
       "ToggleButtons(options=('Regular season', 'Playoffs'), value='Regular season')"
      ]
     },
     "metadata": {},
     "output_type": "display_data"
    },
    {
     "data": {
      "application/vnd.jupyter.widget-view+json": {
       "model_id": "24b423675c66413ab35df3aeaf2f7172",
       "version_major": 2,
       "version_minor": 0
      },
      "text/plain": [
       "SelectionSlider(description='game_id', index=531, options=('2016020001', '2016020002', '2016020003', '20160200…"
      ]
     },
     "metadata": {},
     "output_type": "display_data"
    },
    {
     "data": {
      "application/vnd.jupyter.widget-view+json": {
       "model_id": "496d49e63bb649f5b0f8b8e77a715e29",
       "version_major": 2,
       "version_minor": 0
      },
      "text/plain": [
       "IntSlider(value=1, description='event', max=338, min=1)"
      ]
     },
     "metadata": {},
     "output_type": "display_data"
    },
    {
     "data": {
      "application/vnd.jupyter.widget-view+json": {
       "model_id": "81ff6c29685d4ab0b804fc2881213758",
       "version_major": 2,
       "version_minor": 0
      },
      "text/plain": [
       "Output()"
      ]
     },
     "metadata": {},
     "output_type": "display_data"
    }
   ],
   "source": [
    "d = Debugger(data)\n",
    "display(d.season)\n",
    "display(d.game_type)\n",
    "display(d.game_id)\n",
    "display(d.event)\n",
    "d.display_output()"
   ]
  },
  {
   "cell_type": "code",
   "execution_count": null,
   "id": "70027c0f",
   "metadata": {},
   "outputs": [],
   "source": []
  }
 ],
 "metadata": {
  "kernelspec": {
   "display_name": "Python 3 (ipykernel)",
   "language": "python",
   "name": "python3"
  },
  "language_info": {
   "codemirror_mode": {
    "name": "ipython",
    "version": 3
   },
   "file_extension": ".py",
   "mimetype": "text/x-python",
   "name": "python",
   "nbconvert_exporter": "python",
   "pygments_lexer": "ipython3",
   "version": "3.9.7"
  }
 },
 "nbformat": 4,
 "nbformat_minor": 5
}

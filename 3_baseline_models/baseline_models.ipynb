{
 "cells": [
  {
   "cell_type": "markdown",
   "id": "08a6710c",
   "metadata": {},
   "source": [
    "Author: Shawn Whitfield <br>\n",
    "Version: 1 <br>\n",
    "Date: 2022-10-07 <br> "
   ]
  },
  {
   "cell_type": "code",
   "execution_count": 1,
   "id": "03770b2b",
   "metadata": {},
   "outputs": [],
   "source": [
    "import numpy as np\n",
    "import pandas as pd\n",
    "import seaborn as sns\n",
    "import matplotlib.pyplot as plt"
   ]
  },
  {
   "cell_type": "code",
   "execution_count": 2,
   "id": "04429b48",
   "metadata": {},
   "outputs": [],
   "source": [
    "# Read in data and assign X and y\n",
    "data = pd.read_csv('fe_train_data.csv', index_col=0)\n",
    "y = data['isGoal']\n",
    "X = data.drop(columns = 'isGoal')"
   ]
  },
  {
   "cell_type": "markdown",
   "id": "1e81a30c",
   "metadata": {},
   "source": [
    "Using training dataset, create a training and validation split"
   ]
  },
  {
   "cell_type": "code",
   "execution_count": 3,
   "id": "dff012c4",
   "metadata": {},
   "outputs": [],
   "source": [
    "from sklearn.model_selection import train_test_split\n",
    "# Standard 80:20 split train:validation\n",
    "X_train,X_val,y_train,y_val = train_test_split(X, y, test_size=0.2, random_state=42)"
   ]
  },
  {
   "cell_type": "markdown",
   "id": "7dab640f",
   "metadata": {},
   "source": [
    "Using only the distance feature, train a Logistic Regression classifier with the completely default settings"
   ]
  },
  {
   "cell_type": "code",
   "execution_count": 4,
   "id": "a28c968b",
   "metadata": {},
   "outputs": [],
   "source": [
    "# Select only the distance feature and format it for the classifier\n",
    "X_train_d = X_train['distanceFromNet'].to_numpy().reshape(-1,1)\n",
    "X_val_d = X_val['distanceFromNet'].to_numpy().reshape(-1,1)"
   ]
  },
  {
   "cell_type": "code",
   "execution_count": 5,
   "id": "3ac00a96",
   "metadata": {},
   "outputs": [
    {
     "name": "stdout",
     "output_type": "stream",
     "text": [
      "accuracy score: 0.9041387332782319\n"
     ]
    }
   ],
   "source": [
    "# Train the classifier and get predictions\n",
    "from sklearn.linear_model import LogisticRegression\n",
    "clf = LogisticRegression(random_state=42)\n",
    "clf.fit(X_train_d,y_train)\n",
    "clf_preds = clf.predict(X_val_d)\n",
    "score = clf.score(X_val_d,y_val)\n",
    "print(f'accuracy score: {score}')"
   ]
  },
  {
   "cell_type": "code",
   "execution_count": 6,
   "id": "52cee484",
   "metadata": {},
   "outputs": [
    {
     "data": {
      "text/html": [
       "<div>\n",
       "<style scoped>\n",
       "    .dataframe tbody tr th:only-of-type {\n",
       "        vertical-align: middle;\n",
       "    }\n",
       "\n",
       "    .dataframe tbody tr th {\n",
       "        vertical-align: top;\n",
       "    }\n",
       "\n",
       "    .dataframe thead th {\n",
       "        text-align: right;\n",
       "    }\n",
       "</style>\n",
       "<table border=\"1\" class=\"dataframe\">\n",
       "  <thead>\n",
       "    <tr style=\"text-align: right;\">\n",
       "      <th></th>\n",
       "      <th>gameID</th>\n",
       "      <th>distanceFromNet</th>\n",
       "      <th>angleFromNet</th>\n",
       "      <th>emptyNet</th>\n",
       "      <th>preds</th>\n",
       "      <th>actual</th>\n",
       "    </tr>\n",
       "  </thead>\n",
       "  <tbody>\n",
       "    <tr>\n",
       "      <th>295667</th>\n",
       "      <td>2015020789</td>\n",
       "      <td>167.7647</td>\n",
       "      <td>-5.4727</td>\n",
       "      <td>0</td>\n",
       "      <td>0</td>\n",
       "      <td>1</td>\n",
       "    </tr>\n",
       "    <tr>\n",
       "      <th>304138</th>\n",
       "      <td>2015030232</td>\n",
       "      <td>21.0950</td>\n",
       "      <td>-58.5704</td>\n",
       "      <td>0</td>\n",
       "      <td>0</td>\n",
       "      <td>1</td>\n",
       "    </tr>\n",
       "    <tr>\n",
       "      <th>119654</th>\n",
       "      <td>2017021261</td>\n",
       "      <td>19.2354</td>\n",
       "      <td>62.1027</td>\n",
       "      <td>0</td>\n",
       "      <td>0</td>\n",
       "      <td>1</td>\n",
       "    </tr>\n",
       "    <tr>\n",
       "      <th>68760</th>\n",
       "      <td>2015030241</td>\n",
       "      <td>30.8869</td>\n",
       "      <td>29.0546</td>\n",
       "      <td>0</td>\n",
       "      <td>0</td>\n",
       "      <td>1</td>\n",
       "    </tr>\n",
       "    <tr>\n",
       "      <th>67653</th>\n",
       "      <td>2018021108</td>\n",
       "      <td>38.2099</td>\n",
       "      <td>-96.0090</td>\n",
       "      <td>0</td>\n",
       "      <td>0</td>\n",
       "      <td>1</td>\n",
       "    </tr>\n",
       "    <tr>\n",
       "      <th>...</th>\n",
       "      <td>...</td>\n",
       "      <td>...</td>\n",
       "      <td>...</td>\n",
       "      <td>...</td>\n",
       "      <td>...</td>\n",
       "      <td>...</td>\n",
       "    </tr>\n",
       "    <tr>\n",
       "      <th>353324</th>\n",
       "      <td>2018020184</td>\n",
       "      <td>34.2053</td>\n",
       "      <td>-37.8750</td>\n",
       "      <td>0</td>\n",
       "      <td>0</td>\n",
       "      <td>1</td>\n",
       "    </tr>\n",
       "    <tr>\n",
       "      <th>247772</th>\n",
       "      <td>2017020937</td>\n",
       "      <td>19.0000</td>\n",
       "      <td>0.0000</td>\n",
       "      <td>0</td>\n",
       "      <td>0</td>\n",
       "      <td>1</td>\n",
       "    </tr>\n",
       "    <tr>\n",
       "      <th>22902</th>\n",
       "      <td>2017021178</td>\n",
       "      <td>10.7703</td>\n",
       "      <td>21.8014</td>\n",
       "      <td>0</td>\n",
       "      <td>0</td>\n",
       "      <td>1</td>\n",
       "    </tr>\n",
       "    <tr>\n",
       "      <th>423007</th>\n",
       "      <td>2018020609</td>\n",
       "      <td>12.3693</td>\n",
       "      <td>14.0362</td>\n",
       "      <td>0</td>\n",
       "      <td>0</td>\n",
       "      <td>1</td>\n",
       "    </tr>\n",
       "    <tr>\n",
       "      <th>35500</th>\n",
       "      <td>2015020153</td>\n",
       "      <td>25.4951</td>\n",
       "      <td>64.4400</td>\n",
       "      <td>0</td>\n",
       "      <td>0</td>\n",
       "      <td>1</td>\n",
       "    </tr>\n",
       "  </tbody>\n",
       "</table>\n",
       "<p>6263 rows × 6 columns</p>\n",
       "</div>"
      ],
      "text/plain": [
       "            gameID  distanceFromNet  angleFromNet  emptyNet  preds  actual\n",
       "295667  2015020789         167.7647       -5.4727         0      0       1\n",
       "304138  2015030232          21.0950      -58.5704         0      0       1\n",
       "119654  2017021261          19.2354       62.1027         0      0       1\n",
       "68760   2015030241          30.8869       29.0546         0      0       1\n",
       "67653   2018021108          38.2099      -96.0090         0      0       1\n",
       "...            ...              ...           ...       ...    ...     ...\n",
       "353324  2018020184          34.2053      -37.8750         0      0       1\n",
       "247772  2017020937          19.0000        0.0000         0      0       1\n",
       "22902   2017021178          10.7703       21.8014         0      0       1\n",
       "423007  2018020609          12.3693       14.0362         0      0       1\n",
       "35500   2015020153          25.4951       64.4400         0      0       1\n",
       "\n",
       "[6263 rows x 6 columns]"
      ]
     },
     "execution_count": 6,
     "metadata": {},
     "output_type": "execute_result"
    }
   ],
   "source": [
    "# Look at where it's all gone wrong\n",
    "X_val_compar = X_val.copy()\n",
    "X_val_compar['preds'] = clf_preds\n",
    "X_val_compar['actual'] = y_val\n",
    "wrong_preds = X_val_compar[X_val_compar['preds'] != y_val]\n",
    "wrong_preds"
   ]
  },
  {
   "cell_type": "code",
   "execution_count": 7,
   "id": "5b70d6fd",
   "metadata": {},
   "outputs": [
    {
     "data": {
      "text/html": [
       "<div>\n",
       "<style scoped>\n",
       "    .dataframe tbody tr th:only-of-type {\n",
       "        vertical-align: middle;\n",
       "    }\n",
       "\n",
       "    .dataframe tbody tr th {\n",
       "        vertical-align: top;\n",
       "    }\n",
       "\n",
       "    .dataframe thead th {\n",
       "        text-align: right;\n",
       "    }\n",
       "</style>\n",
       "<table border=\"1\" class=\"dataframe\">\n",
       "  <thead>\n",
       "    <tr style=\"text-align: right;\">\n",
       "      <th></th>\n",
       "      <th>gameID</th>\n",
       "      <th>distanceFromNet</th>\n",
       "      <th>angleFromNet</th>\n",
       "      <th>emptyNet</th>\n",
       "      <th>preds</th>\n",
       "      <th>actual</th>\n",
       "    </tr>\n",
       "  </thead>\n",
       "  <tbody>\n",
       "    <tr>\n",
       "      <th>count</th>\n",
       "      <td>6.263000e+03</td>\n",
       "      <td>6263.000000</td>\n",
       "      <td>6263.000000</td>\n",
       "      <td>6263.000000</td>\n",
       "      <td>6263.0</td>\n",
       "      <td>6263.0</td>\n",
       "    </tr>\n",
       "    <tr>\n",
       "      <th>mean</th>\n",
       "      <td>2.016568e+09</td>\n",
       "      <td>30.160260</td>\n",
       "      <td>-0.342860</td>\n",
       "      <td>0.049497</td>\n",
       "      <td>0.0</td>\n",
       "      <td>1.0</td>\n",
       "    </tr>\n",
       "    <tr>\n",
       "      <th>std</th>\n",
       "      <td>1.122200e+06</td>\n",
       "      <td>34.326019</td>\n",
       "      <td>32.946473</td>\n",
       "      <td>0.216921</td>\n",
       "      <td>0.0</td>\n",
       "      <td>0.0</td>\n",
       "    </tr>\n",
       "    <tr>\n",
       "      <th>min</th>\n",
       "      <td>2.015020e+09</td>\n",
       "      <td>1.414200</td>\n",
       "      <td>-126.869900</td>\n",
       "      <td>0.000000</td>\n",
       "      <td>0.0</td>\n",
       "      <td>1.0</td>\n",
       "    </tr>\n",
       "    <tr>\n",
       "      <th>25%</th>\n",
       "      <td>2.016020e+09</td>\n",
       "      <td>11.000000</td>\n",
       "      <td>-23.198600</td>\n",
       "      <td>0.000000</td>\n",
       "      <td>0.0</td>\n",
       "      <td>1.0</td>\n",
       "    </tr>\n",
       "    <tr>\n",
       "      <th>50%</th>\n",
       "      <td>2.017020e+09</td>\n",
       "      <td>19.105000</td>\n",
       "      <td>0.000000</td>\n",
       "      <td>0.000000</td>\n",
       "      <td>0.0</td>\n",
       "      <td>1.0</td>\n",
       "    </tr>\n",
       "    <tr>\n",
       "      <th>75%</th>\n",
       "      <td>2.018020e+09</td>\n",
       "      <td>34.058800</td>\n",
       "      <td>21.801400</td>\n",
       "      <td>0.000000</td>\n",
       "      <td>0.0</td>\n",
       "      <td>1.0</td>\n",
       "    </tr>\n",
       "    <tr>\n",
       "      <th>max</th>\n",
       "      <td>2.018030e+09</td>\n",
       "      <td>187.181700</td>\n",
       "      <td>180.000000</td>\n",
       "      <td>1.000000</td>\n",
       "      <td>0.0</td>\n",
       "      <td>1.0</td>\n",
       "    </tr>\n",
       "  </tbody>\n",
       "</table>\n",
       "</div>"
      ],
      "text/plain": [
       "             gameID  distanceFromNet  angleFromNet     emptyNet   preds  \\\n",
       "count  6.263000e+03      6263.000000   6263.000000  6263.000000  6263.0   \n",
       "mean   2.016568e+09        30.160260     -0.342860     0.049497     0.0   \n",
       "std    1.122200e+06        34.326019     32.946473     0.216921     0.0   \n",
       "min    2.015020e+09         1.414200   -126.869900     0.000000     0.0   \n",
       "25%    2.016020e+09        11.000000    -23.198600     0.000000     0.0   \n",
       "50%    2.017020e+09        19.105000      0.000000     0.000000     0.0   \n",
       "75%    2.018020e+09        34.058800     21.801400     0.000000     0.0   \n",
       "max    2.018030e+09       187.181700    180.000000     1.000000     0.0   \n",
       "\n",
       "       actual  \n",
       "count  6263.0  \n",
       "mean      1.0  \n",
       "std       0.0  \n",
       "min       1.0  \n",
       "25%       1.0  \n",
       "50%       1.0  \n",
       "75%       1.0  \n",
       "max       1.0  "
      ]
     },
     "execution_count": 7,
     "metadata": {},
     "output_type": "execute_result"
    }
   ],
   "source": [
    "wrong_preds.describe()"
   ]
  },
  {
   "cell_type": "markdown",
   "id": "68aa1402",
   "metadata": {},
   "source": [
    "The model systematically underestimates goals ie. it fails to predict goals. <br>\n",
    "All of the actual are 1 while all the predicted are 0."
   ]
  },
  {
   "cell_type": "code",
   "execution_count": 8,
   "id": "6198f91e",
   "metadata": {
    "scrolled": true
   },
   "outputs": [],
   "source": [
    "# Get probabilities associated with each class, for each point in X_val_d\n",
    "probs_d = clf.predict_proba(X_val_d)"
   ]
  },
  {
   "cell_type": "code",
   "execution_count": 9,
   "id": "41fa4899",
   "metadata": {},
   "outputs": [],
   "source": [
    "def plot_ROC(y_val,probs,title = False, savename=False):\n",
    "    \"\"\"\n",
    "    Plots an ROC curve for the given y (ground truth) and model probabilities, and calculates the AUC.\n",
    "    \"\"\"\n",
    "    from sklearn.metrics import roc_curve, auc\n",
    "    fpr, tpr, _ = roc_curve(y_val,probs)\n",
    "    roc_auc = auc(fpr,tpr)\n",
    "    plt.figure()\n",
    "    lw = 2\n",
    "    plt.plot(\n",
    "        fpr,\n",
    "        tpr,\n",
    "        color=\"darkorange\",\n",
    "        lw=lw,\n",
    "        label=\"ROC curve (area = %0.2f)\" % roc_auc,\n",
    "    )\n",
    "    #Include a random classifier baseline, i.e. each shot has a 50% chance of being a goal\n",
    "    plt.plot([0, 1], [0, 1], color=\"navy\", lw=lw, linestyle=\"--\")\n",
    "    plt.xlim([0.0, 1.0])\n",
    "    plt.ylim([0.0, 1.05])\n",
    "    plt.xlabel(\"False Positive Rate\")\n",
    "    plt.ylabel(\"True Positive Rate\")\n",
    "    plt.title(f\"{title}\")\n",
    "    plt.legend(loc=\"lower right\")\n",
    "\n",
    "    plt.tight_layout()\n",
    "    if savename:\n",
    "        plt.savefig(f'{savename}.png')\n",
    "    plt.show()\n",
    "    plt.clf()"
   ]
  },
  {
   "cell_type": "code",
   "execution_count": 10,
   "id": "a2b71e59",
   "metadata": {},
   "outputs": [
    {
     "data": {
      "image/png": "[encoded data removed]",
      "text/plain": [
       "<Figure size 640x480 with 1 Axes>"
      ]
     },
     "metadata": {},
     "output_type": "display_data"
    },
    {
     "data": {
      "text/plain": [
       "<Figure size 640x480 with 0 Axes>"
      ]
     },
     "metadata": {},
     "output_type": "display_data"
    }
   ],
   "source": [
    "plot_ROC(y_val, probs_d[:,1], 'ROC curve for distance')"
   ]
  },
  {
   "cell_type": "code",
   "execution_count": null,
   "id": "9d18e5f7",
   "metadata": {},
   "outputs": [],
   "source": [
    "# The goal rate (#goals / (#no_goals + #goals)) as a function of the shot probability \n",
    "#     model percentile, i.e. if a value is the 70th percentile, it is above 70% of the data."
   ]
  },
  {
   "cell_type": "code",
   "execution_count": null,
   "id": "097c082e",
   "metadata": {},
   "outputs": [],
   "source": []
  },
  {
   "cell_type": "code",
   "execution_count": null,
   "id": "7e42b4fe",
   "metadata": {},
   "outputs": [],
   "source": [
    "# The cumulative proportion of goals (not shots) as a function of the shot probability model percentile."
   ]
  },
  {
   "cell_type": "code",
   "execution_count": null,
   "id": "5fad1279",
   "metadata": {},
   "outputs": [],
   "source": []
  },
  {
   "cell_type": "code",
   "execution_count": 11,
   "id": "a73269a0",
   "metadata": {},
   "outputs": [
    {
     "data": {
      "image/png": "[encoded data removed]",
      "text/plain": [
       "<Figure size 640x480 with 1 Axes>"
      ]
     },
     "metadata": {},
     "output_type": "display_data"
    }
   ],
   "source": [
    "# The reliability diagram (calibration curve). Scikit-learn provides functionality to create \n",
    "# a reliability diagram in a few lines of code; check out the CalibrationDisplay API \n",
    "# (specifically the .from_estimator() or .from_predictions() methods) for more information.\n",
    "from sklearn.calibration import calibration_curve, CalibrationDisplay\n"
   ]
  },
  {
   "cell_type": "code",
   "execution_count": null,
   "id": "d0201a05",
   "metadata": {},
   "outputs": [],
   "source": []
  }
 ],
 "metadata": {
  "kernelspec": {
   "display_name": "Python 3 (ipykernel)",
   "language": "python",
   "name": "python3"
  },
  "language_info": {
   "codemirror_mode": {
    "name": "ipython",
    "version": 3
   },
   "file_extension": ".py",
   "mimetype": "text/x-python",
   "name": "python",
   "nbconvert_exporter": "python",
   "pygments_lexer": "ipython3",
   "version": "3.9.13"
  }
 },
 "nbformat": 4,
 "nbformat_minor": 5
}

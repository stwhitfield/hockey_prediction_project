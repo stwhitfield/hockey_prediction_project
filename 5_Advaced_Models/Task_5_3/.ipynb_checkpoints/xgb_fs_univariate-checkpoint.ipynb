{
 "cells": [
  {
   "cell_type": "code",
   "execution_count": null,
   "id": "232f5019",
   "metadata": {},
   "outputs": [],
   "source": [
    "import numpy as np\n",
    "import pandas as pd\n",
    "import xgboost as xgb\n",
    "\n",
    "from sklearn.model_selection import train_test_split\n",
    "from sklearn import metrics\n",
    "from sklearn.ensemble import GradientBoostingClassifier\n",
    "from sklearn.calibration import calibration_curve, CalibrationDisplay\n",
    "from sklearn.metrics import roc_curve, auc\n",
    "\n"
   ]
  },
  {
   "cell_type": "code",
   "execution_count": null,
   "id": "0bc3f0b4",
   "metadata": {},
   "outputs": [],
   "source": [
    "def XGB(X,y):\n",
    "    #Train and valid split\n",
    "    X_train,X_val,y_train,y_val = train_test_split(X, y, test_size=0.2, random_state=42)\n",
    "\n",
    "    # XGB Classifier\n",
    "    clf = xgb.XGBClassifier()\n",
    "    y_train = y_train.values.ravel()\n",
    "    clf.fit(X_train, y_train)\n",
    "    \n",
    "    # Predict on validation set\n",
    "    y_pred = clf.predict(X_val)\n",
    "    \n",
    "    #Probability estimates\n",
    "    pred_probs = clf.predict_proba(X_val)\n",
    "    \n",
    "    \n",
    "    #Model Evaultion Metrics\n",
    "    accuracy = metrics.accuracy_score(y_val, y_pred)\n",
    "    f1_score = metrics.f1_score(y_val, y_pred)\n",
    "    precision = metrics.precision_score(y_val, y_pred)\n",
    "    recall = metrics.recall_score(y_val, y_pred)\n",
    "    cf_matrix = metrics.confusion_matrix(y_val,y_pred)\n",
    "    \n",
    "    probs_isgoal = pred_probs[:,1]\n",
    "    roc_auc = metrics.roc_auc_score(y_val,probs_isgoal)\n",
    "    \n",
    "    \n",
    "    \n",
    "        \n",
    "    return pred_probs, accuracy,f1_score, precision, recall, roc_auc, cf_matrix"
   ]
  },
  {
   "cell_type": "code",
   "execution_count": null,
   "id": "d9f17a90",
   "metadata": {},
   "outputs": [],
   "source": [
    "# Read in data and assign X and y\n",
    "data = pd.read_csv('../../data/train.csv', index_col=0)\n",
    "X = data[data.columns.tolist()[:-1]]\n",
    "y = data[['isGoal']]\n",
    "X"
   ]
  },
  {
   "cell_type": "code",
   "execution_count": null,
   "id": "ccad5ee5",
   "metadata": {},
   "outputs": [],
   "source": [
    "#Feature Selection: Low varience\n",
    "from sklearn.feature_selection import VarianceThreshold\n",
    "\n",
    "var_thres=VarianceThreshold(threshold=0.25)\n",
    "var_thres.fit_transform(X)\n",
    "\n",
    "#True: High Variance False: Low Variance\n",
    "new_cols = var_thres.get_support() \n",
    "print(new_cols) \n",
    "\n",
    "#Low variance columns\n",
    "concol = [column for column in X.columns \n",
    "          if column not in X.columns[var_thres.get_support()]]\n",
    "\n",
    "for features in concol:\n",
    "    print(features)\n",
    "\n",
    "#Dropping Low Variance Columns (75% or more similar) \n",
    "X = X.iloc[:,new_cols]\n",
    "print('total columns after feature selection:', len(X.columns))\n",
    "X.shape"
   ]
  },
  {
   "cell_type": "code",
   "execution_count": null,
   "id": "b7866ab7",
   "metadata": {},
   "outputs": [],
   "source": [
    "pred_probs, accuracy,f1_score, precision, recall, roc_auc, cf_matrix = XGB(X, y)\n",
    "print(f' accuracy: {accuracy}')\n",
    "print(f' f1_score: {f1_score}')\n",
    "print(f' precision: {precision}')\n",
    "print(f' recall: {recall}')\n",
    "print(f' roc_auc: {roc_auc}')\n",
    "print(cf_matrix)"
   ]
  },
  {
   "cell_type": "code",
   "execution_count": null,
   "id": "0dad6956",
   "metadata": {},
   "outputs": [],
   "source": []
  },
  {
   "cell_type": "code",
   "execution_count": null,
   "id": "5a771312",
   "metadata": {},
   "outputs": [],
   "source": []
  }
 ],
 "metadata": {
  "kernelspec": {
   "display_name": "Python 3 (ipykernel)",
   "language": "python",
   "name": "python3"
  },
  "language_info": {
   "codemirror_mode": {
    "name": "ipython",
    "version": 3
   },
   "file_extension": ".py",
   "mimetype": "text/x-python",
   "name": "python",
   "nbconvert_exporter": "python",
   "pygments_lexer": "ipython3",
   "version": "3.9.12"
  }
 },
 "nbformat": 4,
 "nbformat_minor": 5
}

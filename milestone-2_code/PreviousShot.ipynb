{
 "cells": [
  {
   "cell_type": "code",
   "execution_count": 1,
   "id": "8328a417",
   "metadata": {},
   "outputs": [],
   "source": [
    "import json\n",
    "import pandas as pd\n",
    "from csv import writer\n",
    "import os\n"
   ]
  },
  {
   "cell_type": "code",
   "execution_count": 13,
   "id": "217e9ea9",
   "metadata": {},
   "outputs": [],
   "source": [
    "current_periods = []\n",
    "current_teams = tuple()\n",
    "nullToken = None\n"
   ]
  },
  {
   "cell_type": "code",
   "execution_count": 17,
   "id": "55a518ab",
   "metadata": {},
   "outputs": [],
   "source": [
    "def valueOrNull(key, obj):\n",
    "        if key in obj:\n",
    "            value = obj[key]\n",
    "        else:\n",
    "            value = nullToken\n",
    "        return value\n"
   ]
  },
  {
   "cell_type": "code",
   "execution_count": null,
   "id": "52fe1015",
   "metadata": {},
   "outputs": [],
   "source": [
    "def append_header(file_name):\n",
    "        with open(file_name, 'a+', newline='') as write_obj:\n",
    "            csv_writer = writer(write_obj)\n",
    "            csv_writer.writerow([\"gameId\", \"season\", \"teamHome\", \"teamAway\", \"eventType\", \"eventTeam\", \"period\", \"periodTime\", \"eventSide\", \"coordinateX\", \"coordinateY\", \"shooterName\", \"goalieName\", \"shotType\", \"emptyNet\", \"strength\"])\n"
   ]
  },
  {
   "cell_type": "code",
   "execution_count": 18,
   "id": "26f79885",
   "metadata": {},
   "outputs": [],
   "source": [
    "def getPlayInfo(play):\n",
    "        about = play[\"about\"]\n",
    "        periodTime = about[\"periodTime\"]\n",
    "        period = about[\"period\"]\n",
    "        eventTeam = play[\"team\"][\"name\"]\n",
    "        if(period == 5):\n",
    "            eventSide = \"shootout\"\n",
    "        else:\n",
    "            team = current_teams.index(eventTeam)\n",
    "            current_period = current_periods[period - 1]\n",
    "            if team == 0:\n",
    "                eventSide = valueOrNull(\"rinkSide\", current_period[\"home\"])\n",
    "            else:\n",
    "                eventSide = valueOrNull(\"rinkSide\", current_period[\"away\"])\n",
    "        result = play[\"result\"]\n",
    "        eventType = result[\"event\"]\n",
    "        if eventType == \"Goal\":\n",
    "            eventType = 1\n",
    "        else:\n",
    "            eventType = 0\n",
    "        coordinates = play[\"coordinates\"]\n",
    "        coordinateX = valueOrNull(\"x\", coordinates)\n",
    "        coordinateY = valueOrNull(\"y\", coordinates)\n",
    "        shooterName = play[\"players\"][0][\"player\"][\"fullName\"]\n",
    "        goalieName = play[\"players\"][-1][\"player\"][\"fullName\"]\n",
    "        shotType = valueOrNull(\"secondaryType\", result)\n",
    "        if eventType == 1:\n",
    "            emptyNet = valueOrNull(\"emptyNet\", result)\n",
    "            strength = result[\"strength\"][\"code\"]\n",
    "        else:\n",
    "            emptyNet = nullToken\n",
    "            strength = nullToken\n",
    "        return [eventType, eventTeam, period, periodTime, eventSide, coordinateX, coordinateY, shooterName, goalieName, shotType, emptyNet, strength]\n"
   ]
  },
  {
   "cell_type": "code",
   "execution_count": 37,
   "id": "2342520e",
   "metadata": {},
   "outputs": [],
   "source": [
    "import numpy as np\n",
    "def get_distance(x1,x2, y1,y2):\n",
    "    \"\"\"\n",
    "    Calculates the euclidean distance from the event coordinates (x,y) to the goal, \n",
    "    based on what side of the rink (Eventside) the event is.\n",
    "    Returns the euclidean distance rounded to 4 decimal places.\n",
    "    \"\"\"\n",
    "    coord1 = np.array([x1,x2])\n",
    "    coord2 = np.array([y1,y2])\n",
    "    \n",
    "    \n",
    "    # Distance is the norm of a-b\n",
    "    distance = np.linalg.norm(coord1 - coord2)\n",
    "    \n",
    "    return round(distance,4)"
   ]
  },
  {
   "cell_type": "code",
   "execution_count": 40,
   "id": "6d59b540",
   "metadata": {},
   "outputs": [],
   "source": [
    "#Get time differece\n",
    "import datetime as dt\n",
    "def get_time_diff(t1, t2):\n",
    "    start_dt = dt.datetime.strptime(t1, '%M:%S')\n",
    "    end_dt = dt.datetime.strptime(t2, '%M:%S')\n",
    "    diff = (end_dt - start_dt) \n",
    "    return diff.seconds "
   ]
  },
  {
   "cell_type": "code",
   "execution_count": 44,
   "id": "437a94b3",
   "metadata": {},
   "outputs": [
    {
     "name": "stdout",
     "output_type": "stream",
     "text": [
      "2015020001.json\n"
     ]
    },
    {
     "ename": "PermissionError",
     "evalue": "[Errno 13] Permission denied: 'test.csv'",
     "output_type": "error",
     "traceback": [
      "\u001b[1;31m---------------------------------------------------------------------------\u001b[0m",
      "\u001b[1;31mPermissionError\u001b[0m                           Traceback (most recent call last)",
      "Input \u001b[1;32mIn [44]\u001b[0m, in \u001b[0;36m<cell line: 1>\u001b[1;34m()\u001b[0m\n\u001b[0;32m      9\u001b[0m json_file \u001b[38;5;241m=\u001b[39m \u001b[38;5;28mopen\u001b[39m(\u001b[38;5;124m\"\u001b[39m\u001b[38;5;124mraw_data/\u001b[39m\u001b[38;5;124m\"\u001b[39m\u001b[38;5;241m+\u001b[39mfilename)\n\u001b[0;32m     10\u001b[0m data \u001b[38;5;241m=\u001b[39m json\u001b[38;5;241m.\u001b[39mload(json_file)\n\u001b[1;32m---> 11\u001b[0m \u001b[38;5;28;01mwith\u001b[39;00m \u001b[38;5;28;43mopen\u001b[39;49m\u001b[43m(\u001b[49m\u001b[38;5;124;43m\"\u001b[39;49m\u001b[38;5;124;43mtest.csv\u001b[39;49m\u001b[38;5;124;43m\"\u001b[39;49m\u001b[43m,\u001b[49m\u001b[43m \u001b[49m\u001b[38;5;124;43m'\u001b[39;49m\u001b[38;5;124;43mw+\u001b[39;49m\u001b[38;5;124;43m'\u001b[39;49m\u001b[43m,\u001b[49m\u001b[43m \u001b[49m\u001b[43mnewline\u001b[49m\u001b[38;5;241;43m=\u001b[39;49m\u001b[38;5;124;43m'\u001b[39;49m\u001b[38;5;124;43m'\u001b[39;49m\u001b[43m)\u001b[49m \u001b[38;5;28;01mas\u001b[39;00m write_obj:\n\u001b[0;32m     12\u001b[0m             csv_writer \u001b[38;5;241m=\u001b[39m writer(write_obj)\n\u001b[0;32m     13\u001b[0m             gameId \u001b[38;5;241m=\u001b[39m data[\u001b[38;5;124m\"\u001b[39m\u001b[38;5;124mgamePk\u001b[39m\u001b[38;5;124m\"\u001b[39m]\n",
      "\u001b[1;31mPermissionError\u001b[0m: [Errno 13] Permission denied: 'test.csv'"
     ]
    }
   ],
   "source": [
    "for filename in os.listdir(\"raw_data\"):\n",
    "    # Parse the filename\n",
    "    name = filename.split('.json')[0]\n",
    "    is_json = filename[-5:] == '.json'\n",
    "    print(filename)\n",
    "    # If it's a json:\n",
    "    if is_json:\n",
    "        # Open and load file\n",
    "        json_file = open(\"raw_data/\"+filename)\n",
    "        data = json.load(json_file)\n",
    "        with open(\"test.csv\", 'w+', newline='') as write_obj:\n",
    "                    csv_writer = writer(write_obj)\n",
    "                    gameId = data[\"gamePk\"]\n",
    "                    season = data[\"gameData\"][\"game\"][\"season\"]\n",
    "                    teamHome = data[\"gameData\"][\"teams\"][\"home\"][\"name\"]\n",
    "                    teamAway = data[\"gameData\"][\"teams\"][\"away\"][\"name\"]\n",
    "                    current_teams = (teamHome, teamAway)\n",
    "                    periods = data[\"liveData\"][\"linescore\"][\"periods\"]\n",
    "                    current_periods = periods\n",
    "                    allplays=data[\"liveData\"][\"plays\"][\"allPlays\"]\n",
    "                    for i in range(0,len(allplays)):\n",
    "                        if allplays[i][\"result\"][\"event\"] == \"Shot\" or allplays[i][\"result\"][\"event\"] == \"Goal\":\n",
    "                            play= getPlayInfo(allplays[i])\n",
    "                            last_coordinates = allplays[i-1][\"coordinates\"]\n",
    "                            last_coordinateX = valueOrNull(\"x\", last_coordinates)\n",
    "                            last_coordinateY = valueOrNull(\"y\", last_coordinates)\n",
    "                            last_event = allplays[i-1][\"result\"][\"event\"]\n",
    "                            last_periodTime = allplays[i-1][\"about\"][\"periodTime\"]\n",
    "                            print(\"----\",last_coordinates, last_periodTime, last_event)\n",
    "                            print(play)\n",
    "                            if last_coordinateX is None :\n",
    "                                last_coordinateX = play[5]\n",
    "                            if last_coordinateY is None :\n",
    "                                last_coordinateY = play[6]\n",
    "                            distance = get_distance(play[5], play[6], last_coordinateX, last_coordinateY)\n",
    "                            time_last_event = get_time_diff(last_periodTime, play[3])\n",
    "                            rebound=False\n",
    "                            if last_event==\"Shot\":\n",
    "                                rebound=True\n",
    "                            speed=distance/time_last_event\n",
    "                            csv_writer.writerow([gameId,season,teamHome,teamAway] + play + [last_coordinateX,\n",
    "                                                                                           last_coordinateY,\n",
    "                                                                                           last_event,last_periodTime,\n",
    "                                                                                           distance,time_last_event,\n",
    "                                                                                           rebound, speed])\n",
    "    json_file.close()\n",
    "    break              \n",
    "                            \n"
   ]
  },
  {
   "cell_type": "code",
   "execution_count": null,
   "id": "69309964",
   "metadata": {},
   "outputs": [],
   "source": []
  }
 ],
 "metadata": {
  "kernelspec": {
   "display_name": "Python 3 (ipykernel)",
   "language": "python",
   "name": "python3"
  },
  "language_info": {
   "codemirror_mode": {
    "name": "ipython",
    "version": 3
   },
   "file_extension": ".py",
   "mimetype": "text/x-python",
   "name": "python",
   "nbconvert_exporter": "python",
   "pygments_lexer": "ipython3",
   "version": "3.9.7"
  }
 },
 "nbformat": 4,
 "nbformat_minor": 5
}
